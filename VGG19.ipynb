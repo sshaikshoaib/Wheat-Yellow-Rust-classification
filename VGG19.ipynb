{
  "cells": [
    {
      "cell_type": "code",
      "execution_count": null,
      "id": "1f91a357",
      "metadata": {
        "scrolled": false,
        "id": "1f91a357"
      },
      "outputs": [],
      "source": [
        "import numpy as np\n",
        "import pandas as pd\n",
        "from glob import glob\n",
        "import matplotlib.pyplot as plt\n",
        "from tensorflow.keras.layers import Input, Lambda, Dense, Flatten\n",
        "from tensorflow.keras.models import Model\n",
        "from tensorflow.keras.applications.vgg16 import VGG16\n",
        "from tensorflow.keras.applications.vgg19 import VGG19\n",
        "from tensorflow.keras.preprocessing import image\n",
        "from tensorflow.keras.preprocessing.image import ImageDataGenerator\n",
        "from tensorflow.keras.models import Sequential"
      ]
    },
    {
      "cell_type": "code",
      "execution_count": null,
      "id": "23e162bf",
      "metadata": {
        "id": "23e162bf"
      },
      "outputs": [],
      "source": [
        "train_path = r'E:\\YellowRust\\train\\train'\n",
        "test_path = r'E:\\YellowRust\\test\\test'"
      ]
    },
    {
      "cell_type": "code",
      "execution_count": null,
      "id": "5919f2f6",
      "metadata": {
        "id": "5919f2f6",
        "outputId": "df1736a8-307a-46a7-9b1b-7220d97d89f6"
      },
      "outputs": [
        {
          "name": "stdout",
          "output_type": "stream",
          "text": [
            "Total Classes = 6\n"
          ]
        }
      ],
      "source": [
        "IMAGE_SIZE = [224, 224] #Default image size for VGG16\n",
        "folders = glob(train_path + '/*') #Get number of classes\n",
        "num_classes = len(folders)\n",
        "print ('Total Classes = ' + str(num_classes))"
      ]
    },
    {
      "cell_type": "code",
      "execution_count": null,
      "id": "cde748e0",
      "metadata": {
        "id": "cde748e0"
      },
      "outputs": [],
      "source": [
        "train_datagen = ImageDataGenerator(rescale = 1./255, shear_range = 0.2, zoom_range = 0.2, horizontal_flip = True)\n",
        "validation_datagen = ImageDataGenerator(rescale = 1./255)\n",
        "test_datagen = ImageDataGenerator(rescale = 1./255)"
      ]
    },
    {
      "cell_type": "code",
      "execution_count": null,
      "id": "014df5dd",
      "metadata": {
        "id": "014df5dd",
        "outputId": "7092f761-270f-412e-dd01-5a0f6be5dce7"
      },
      "outputs": [
        {
          "name": "stdout",
          "output_type": "stream",
          "text": [
            "Found 15000 images belonging to 6 classes.\n"
          ]
        }
      ],
      "source": [
        "training_set = train_datagen.flow_from_directory(train_path,\n",
        "                                                 target_size = (224, 224),\n",
        "                                                 batch_size = 64,\n",
        "                                                 class_mode = 'categorical')"
      ]
    },
    {
      "cell_type": "code",
      "execution_count": null,
      "id": "059956a3",
      "metadata": {
        "id": "059956a3",
        "outputId": "c02408cc-fcd3-4a37-8b80-86c5e4a4612b"
      },
      "outputs": [
        {
          "name": "stdout",
          "output_type": "stream",
          "text": [
            "Found 5421 images belonging to 6 classes.\n"
          ]
        }
      ],
      "source": [
        "test_set = test_datagen.flow_from_directory(test_path,\n",
        "                                            target_size = (224, 224),\n",
        "                                            batch_size = 32,\n",
        "                                            class_mode = 'categorical')"
      ]
    },
    {
      "cell_type": "code",
      "execution_count": null,
      "id": "ac7f4301",
      "metadata": {
        "id": "ac7f4301"
      },
      "outputs": [],
      "source": [
        "vgg = VGG19(input_shape=IMAGE_SIZE + [3], weights='imagenet', include_top=False)"
      ]
    },
    {
      "cell_type": "code",
      "execution_count": null,
      "id": "77297b05",
      "metadata": {
        "id": "77297b05"
      },
      "outputs": [],
      "source": [
        "for layer in vgg.layers:\n",
        "  layer.trainable = False"
      ]
    },
    {
      "cell_type": "code",
      "execution_count": null,
      "id": "2e492456",
      "metadata": {
        "id": "2e492456"
      },
      "outputs": [],
      "source": [
        "x = Flatten()(vgg.output) #Output obtained on vgg16 is now flattened.\n",
        "prediction = Dense(len(folders), activation='softmax')(x)"
      ]
    },
    {
      "cell_type": "code",
      "execution_count": null,
      "id": "116e6e76",
      "metadata": {
        "id": "116e6e76"
      },
      "outputs": [],
      "source": [
        "model = Model(inputs=vgg.input, outputs=prediction)"
      ]
    },
    {
      "cell_type": "code",
      "execution_count": null,
      "id": "f875a659",
      "metadata": {
        "id": "f875a659",
        "outputId": "b5717ca3-8561-4dca-d767-d87a68cf2f8e"
      },
      "outputs": [
        {
          "name": "stdout",
          "output_type": "stream",
          "text": [
            "Model: \"model\"\n",
            "_________________________________________________________________\n",
            " Layer (type)                Output Shape              Param #   \n",
            "=================================================================\n",
            " input_1 (InputLayer)        [(None, 224, 224, 3)]     0         \n",
            "                                                                 \n",
            " block1_conv1 (Conv2D)       (None, 224, 224, 64)      1792      \n",
            "                                                                 \n",
            " block1_conv2 (Conv2D)       (None, 224, 224, 64)      36928     \n",
            "                                                                 \n",
            " block1_pool (MaxPooling2D)  (None, 112, 112, 64)      0         \n",
            "                                                                 \n",
            " block2_conv1 (Conv2D)       (None, 112, 112, 128)     73856     \n",
            "                                                                 \n",
            " block2_conv2 (Conv2D)       (None, 112, 112, 128)     147584    \n",
            "                                                                 \n",
            " block2_pool (MaxPooling2D)  (None, 56, 56, 128)       0         \n",
            "                                                                 \n",
            " block3_conv1 (Conv2D)       (None, 56, 56, 256)       295168    \n",
            "                                                                 \n",
            " block3_conv2 (Conv2D)       (None, 56, 56, 256)       590080    \n",
            "                                                                 \n",
            " block3_conv3 (Conv2D)       (None, 56, 56, 256)       590080    \n",
            "                                                                 \n",
            " block3_conv4 (Conv2D)       (None, 56, 56, 256)       590080    \n",
            "                                                                 \n",
            " block3_pool (MaxPooling2D)  (None, 28, 28, 256)       0         \n",
            "                                                                 \n",
            " block4_conv1 (Conv2D)       (None, 28, 28, 512)       1180160   \n",
            "                                                                 \n",
            " block4_conv2 (Conv2D)       (None, 28, 28, 512)       2359808   \n",
            "                                                                 \n",
            " block4_conv3 (Conv2D)       (None, 28, 28, 512)       2359808   \n",
            "                                                                 \n",
            " block4_conv4 (Conv2D)       (None, 28, 28, 512)       2359808   \n",
            "                                                                 \n",
            " block4_pool (MaxPooling2D)  (None, 14, 14, 512)       0         \n",
            "                                                                 \n",
            " block5_conv1 (Conv2D)       (None, 14, 14, 512)       2359808   \n",
            "                                                                 \n",
            " block5_conv2 (Conv2D)       (None, 14, 14, 512)       2359808   \n",
            "                                                                 \n",
            " block5_conv3 (Conv2D)       (None, 14, 14, 512)       2359808   \n",
            "                                                                 \n",
            " block5_conv4 (Conv2D)       (None, 14, 14, 512)       2359808   \n",
            "                                                                 \n",
            " block5_pool (MaxPooling2D)  (None, 7, 7, 512)         0         \n",
            "                                                                 \n",
            " flatten (Flatten)           (None, 25088)             0         \n",
            "                                                                 \n",
            " dense (Dense)               (None, 6)                 150534    \n",
            "                                                                 \n",
            "=================================================================\n",
            "Total params: 20,174,918\n",
            "Trainable params: 150,534\n",
            "Non-trainable params: 20,024,384\n",
            "_________________________________________________________________\n"
          ]
        }
      ],
      "source": [
        "model.summary()"
      ]
    },
    {
      "cell_type": "code",
      "execution_count": null,
      "id": "b8d1fcca",
      "metadata": {
        "scrolled": true,
        "id": "b8d1fcca",
        "outputId": "42cc7a9c-9520-419f-9da8-2faca7deb3f5"
      },
      "outputs": [
        {
          "name": "stdout",
          "output_type": "stream",
          "text": [
            "Epoch 1/30\n",
            "235/235 [==============================] - 271s 1s/step - loss: 1.3906 - accuracy: 0.4361 - val_loss: 1.0157 - val_accuracy: 0.5683\n",
            "Epoch 2/30\n",
            "235/235 [==============================] - 182s 775ms/step - loss: 1.1012 - accuracy: 0.5399 - val_loss: 0.9479 - val_accuracy: 0.6097\n",
            "Epoch 3/30\n",
            "235/235 [==============================] - 138s 586ms/step - loss: 1.0166 - accuracy: 0.5850 - val_loss: 0.9171 - val_accuracy: 0.6080\n",
            "Epoch 4/30\n",
            "235/235 [==============================] - 152s 648ms/step - loss: 0.9832 - accuracy: 0.5957 - val_loss: 0.9845 - val_accuracy: 0.5809\n",
            "Epoch 5/30\n",
            "235/235 [==============================] - 145s 617ms/step - loss: 0.8943 - accuracy: 0.6383 - val_loss: 0.7793 - val_accuracy: 0.6847\n",
            "Epoch 6/30\n",
            "235/235 [==============================] - 151s 643ms/step - loss: 0.8367 - accuracy: 0.6595 - val_loss: 0.8791 - val_accuracy: 0.6394\n",
            "Epoch 7/30\n",
            "235/235 [==============================] - 153s 652ms/step - loss: 0.8422 - accuracy: 0.6649 - val_loss: 0.7360 - val_accuracy: 0.6855\n",
            "Epoch 8/30\n",
            "235/235 [==============================] - 154s 653ms/step - loss: 0.8149 - accuracy: 0.6747 - val_loss: 0.7580 - val_accuracy: 0.6864\n",
            "Epoch 9/30\n",
            "235/235 [==============================] - 144s 611ms/step - loss: 0.7866 - accuracy: 0.6848 - val_loss: 0.7533 - val_accuracy: 0.6796\n",
            "Epoch 10/30\n",
            "235/235 [==============================] - 142s 603ms/step - loss: 0.7547 - accuracy: 0.6990 - val_loss: 0.6514 - val_accuracy: 0.7371\n",
            "Epoch 11/30\n",
            "235/235 [==============================] - 140s 596ms/step - loss: 0.7434 - accuracy: 0.7029 - val_loss: 0.6181 - val_accuracy: 0.7541\n",
            "Epoch 12/30\n",
            "235/235 [==============================] - 139s 593ms/step - loss: 0.7366 - accuracy: 0.7067 - val_loss: 0.8033 - val_accuracy: 0.6733\n",
            "Epoch 13/30\n",
            "235/235 [==============================] - 141s 601ms/step - loss: 0.7477 - accuracy: 0.7062 - val_loss: 0.7605 - val_accuracy: 0.6816\n",
            "Epoch 14/30\n",
            "235/235 [==============================] - 142s 602ms/step - loss: 0.6580 - accuracy: 0.7443 - val_loss: 0.8032 - val_accuracy: 0.6737\n",
            "Epoch 15/30\n",
            "235/235 [==============================] - 136s 576ms/step - loss: 0.6536 - accuracy: 0.7460 - val_loss: 0.6253 - val_accuracy: 0.7445\n",
            "Epoch 16/30\n",
            "235/235 [==============================] - 130s 554ms/step - loss: 0.6660 - accuracy: 0.7434 - val_loss: 0.6021 - val_accuracy: 0.7580\n",
            "Epoch 17/30\n",
            "235/235 [==============================] - 132s 564ms/step - loss: 0.6569 - accuracy: 0.7455 - val_loss: 0.6679 - val_accuracy: 0.7274\n",
            "Epoch 18/30\n",
            "235/235 [==============================] - 131s 557ms/step - loss: 0.6372 - accuracy: 0.7505 - val_loss: 0.6060 - val_accuracy: 0.7595\n",
            "Epoch 19/30\n",
            "235/235 [==============================] - 173s 737ms/step - loss: 0.6445 - accuracy: 0.7451 - val_loss: 0.6045 - val_accuracy: 0.7569\n",
            "Epoch 20/30\n",
            "235/235 [==============================] - 183s 777ms/step - loss: 0.6377 - accuracy: 0.7505 - val_loss: 0.5674 - val_accuracy: 0.7714\n",
            "Epoch 21/30\n",
            "235/235 [==============================] - 132s 561ms/step - loss: 0.6039 - accuracy: 0.7667 - val_loss: 0.4842 - val_accuracy: 0.8218\n",
            "Epoch 22/30\n",
            "235/235 [==============================] - 133s 566ms/step - loss: 0.6312 - accuracy: 0.7537 - val_loss: 0.5505 - val_accuracy: 0.7770\n",
            "Epoch 23/30\n",
            "235/235 [==============================] - 129s 549ms/step - loss: 0.5896 - accuracy: 0.7669 - val_loss: 0.5358 - val_accuracy: 0.7856\n",
            "Epoch 24/30\n",
            "235/235 [==============================] - 138s 585ms/step - loss: 0.5640 - accuracy: 0.7801 - val_loss: 0.5397 - val_accuracy: 0.7838\n",
            "Epoch 25/30\n",
            "235/235 [==============================] - 140s 594ms/step - loss: 0.5780 - accuracy: 0.7775 - val_loss: 0.5793 - val_accuracy: 0.7582\n",
            "Epoch 26/30\n",
            "235/235 [==============================] - 133s 564ms/step - loss: 0.5428 - accuracy: 0.7901 - val_loss: 0.5030 - val_accuracy: 0.8054\n",
            "Epoch 27/30\n",
            "235/235 [==============================] - 132s 560ms/step - loss: 0.5720 - accuracy: 0.7789 - val_loss: 0.5412 - val_accuracy: 0.7821\n",
            "Epoch 28/30\n",
            "235/235 [==============================] - 130s 554ms/step - loss: 0.5606 - accuracy: 0.7833 - val_loss: 0.6561 - val_accuracy: 0.7417\n",
            "Epoch 29/30\n",
            "235/235 [==============================] - 134s 571ms/step - loss: 0.5515 - accuracy: 0.7871 - val_loss: 0.5225 - val_accuracy: 0.7858\n",
            "Epoch 30/30\n",
            "235/235 [==============================] - 131s 559ms/step - loss: 0.5411 - accuracy: 0.7911 - val_loss: 0.6047 - val_accuracy: 0.7556\n"
          ]
        }
      ],
      "source": [
        "model.compile(loss='categorical_crossentropy', optimizer='adam', metrics=['accuracy'])\n",
        "history = model.fit(training_set, validation_data=test_set, epochs=30, batch_size=32)"
      ]
    },
    {
      "cell_type": "code",
      "execution_count": null,
      "id": "dd4ce036",
      "metadata": {
        "id": "dd4ce036",
        "outputId": "19beff6e-b8cb-451b-e8ef-280033ffc163"
      },
      "outputs": [
        {
          "name": "stdout",
          "output_type": "stream",
          "text": [
            "VGG-19 model saved at: vgg19_model.h5\n"
          ]
        }
      ],
      "source": [
        "model_path = 'vgg19_model.h5'\n",
        "model.save(model_path)\n",
        "print(\"VGG-19 model saved at:\", model_path)"
      ]
    }
  ],
  "metadata": {
    "kernelspec": {
      "display_name": "Python 3 (ipykernel)",
      "language": "python",
      "name": "python3"
    },
    "language_info": {
      "codemirror_mode": {
        "name": "ipython",
        "version": 3
      },
      "file_extension": ".py",
      "mimetype": "text/x-python",
      "name": "python",
      "nbconvert_exporter": "python",
      "pygments_lexer": "ipython3",
      "version": "3.10.9"
    },
    "colab": {
      "provenance": []
    }
  },
  "nbformat": 4,
  "nbformat_minor": 5
}